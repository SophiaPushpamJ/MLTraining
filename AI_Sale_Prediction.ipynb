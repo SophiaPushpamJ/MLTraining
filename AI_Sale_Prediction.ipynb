{
  "nbformat": 4,
  "nbformat_minor": 0,
  "metadata": {
    "colab": {
      "provenance": [],
      "authorship_tag": "ABX9TyMPVG6bIKldmQCMsi7rZ1AQ",
      "include_colab_link": true
    },
    "kernelspec": {
      "name": "python3",
      "display_name": "Python 3"
    },
    "language_info": {
      "name": "python"
    }
  },
  "cells": [
    {
      "cell_type": "markdown",
      "metadata": {
        "id": "view-in-github",
        "colab_type": "text"
      },
      "source": [
        "<a href=\"https://colab.research.google.com/github/SophiaPushpamJ/MLTraining/blob/main/AI_Sale_Prediction.ipynb\" target=\"_parent\"><img src=\"https://colab.research.google.com/assets/colab-badge.svg\" alt=\"Open In Colab\"/></a>"
      ]
    },
    {
      "cell_type": "code",
      "source": [],
      "metadata": {
        "id": "T2LmeFg4oJTv"
      },
      "execution_count": null,
      "outputs": []
    },
    {
      "cell_type": "markdown",
      "source": [
        "Importing **Libraries**"
      ],
      "metadata": {
        "id": "PaGjY_MPoL17"
      }
    },
    {
      "cell_type": "code",
      "source": [
        "import pandas as pd"
      ],
      "metadata": {
        "id": "ulx_w1AmoO6O"
      },
      "execution_count": 2,
      "outputs": []
    },
    {
      "cell_type": "code",
      "source": [],
      "metadata": {
        "id": "3qu4jSI3oV-C"
      },
      "execution_count": null,
      "outputs": []
    },
    {
      "cell_type": "markdown",
      "source": [
        "Loading Dataset"
      ],
      "metadata": {
        "id": "CLjcgMVjoalj"
      }
    },
    {
      "cell_type": "code",
      "source": [
        "from google.colab import files"
      ],
      "metadata": {
        "id": "bUa7IXzQosDg"
      },
      "execution_count": 3,
      "outputs": []
    },
    {
      "cell_type": "markdown",
      "source": [],
      "metadata": {
        "id": "jBOKadMupYna"
      }
    },
    {
      "cell_type": "code",
      "source": [
        "dataset = pd.read_csv(\"\"filename)"
      ],
      "metadata": {
        "id": "prMBD5A5paq_"
      },
      "execution_count": null,
      "outputs": []
    },
    {
      "cell_type": "markdown",
      "source": [
        "Summarization of data"
      ],
      "metadata": {
        "id": "ROjKLzRDpiVL"
      }
    },
    {
      "cell_type": "code",
      "source": [
        "dataset.shape\n",
        "dataset.head(5)"
      ],
      "metadata": {
        "id": "BpL8dPTpplEY"
      },
      "execution_count": null,
      "outputs": []
    },
    {
      "cell_type": "markdown",
      "source": [
        "Segregating X and Y"
      ],
      "metadata": {
        "id": "iNMrvHMKppCY"
      }
    },
    {
      "cell_type": "code",
      "source": [],
      "metadata": {
        "id": "LN0qniXVpr_M"
      },
      "execution_count": null,
      "outputs": []
    }
  ]
}